{
 "cells": [
  {
   "cell_type": "code",
   "execution_count": 47,
   "metadata": {},
   "outputs": [],
   "source": [
    "import numpy as np\n",
    "import pandas as pd\n",
    "import seaborn as sns\n",
    "import matplotlib.pyplot as plt"
   ]
  },
  {
   "cell_type": "code",
   "execution_count": 48,
   "metadata": {},
   "outputs": [],
   "source": [
    "df = pd.read_csv('Downloads/winequality-red.csv')"
   ]
  },
  {
   "cell_type": "code",
   "execution_count": 49,
   "metadata": {},
   "outputs": [
    {
     "data": {
      "text/html": [
       "<div>\n",
       "<style scoped>\n",
       "    .dataframe tbody tr th:only-of-type {\n",
       "        vertical-align: middle;\n",
       "    }\n",
       "\n",
       "    .dataframe tbody tr th {\n",
       "        vertical-align: top;\n",
       "    }\n",
       "\n",
       "    .dataframe thead th {\n",
       "        text-align: right;\n",
       "    }\n",
       "</style>\n",
       "<table border=\"1\" class=\"dataframe\">\n",
       "  <thead>\n",
       "    <tr style=\"text-align: right;\">\n",
       "      <th></th>\n",
       "      <th>fixed acidity</th>\n",
       "      <th>volatile acidity</th>\n",
       "      <th>citric acid</th>\n",
       "      <th>residual sugar</th>\n",
       "      <th>chlorides</th>\n",
       "      <th>free sulfur dioxide</th>\n",
       "      <th>total sulfur dioxide</th>\n",
       "      <th>density</th>\n",
       "      <th>pH</th>\n",
       "      <th>sulphates</th>\n",
       "      <th>alcohol</th>\n",
       "      <th>quality</th>\n",
       "    </tr>\n",
       "  </thead>\n",
       "  <tbody>\n",
       "    <tr>\n",
       "      <th>0</th>\n",
       "      <td>7.4</td>\n",
       "      <td>0.70</td>\n",
       "      <td>0.00</td>\n",
       "      <td>1.9</td>\n",
       "      <td>0.076</td>\n",
       "      <td>11.0</td>\n",
       "      <td>34.0</td>\n",
       "      <td>0.9978</td>\n",
       "      <td>3.51</td>\n",
       "      <td>0.56</td>\n",
       "      <td>9.4</td>\n",
       "      <td>5</td>\n",
       "    </tr>\n",
       "    <tr>\n",
       "      <th>1</th>\n",
       "      <td>7.8</td>\n",
       "      <td>0.88</td>\n",
       "      <td>0.00</td>\n",
       "      <td>2.6</td>\n",
       "      <td>0.098</td>\n",
       "      <td>25.0</td>\n",
       "      <td>67.0</td>\n",
       "      <td>0.9968</td>\n",
       "      <td>3.20</td>\n",
       "      <td>0.68</td>\n",
       "      <td>9.8</td>\n",
       "      <td>5</td>\n",
       "    </tr>\n",
       "    <tr>\n",
       "      <th>2</th>\n",
       "      <td>7.8</td>\n",
       "      <td>0.76</td>\n",
       "      <td>0.04</td>\n",
       "      <td>2.3</td>\n",
       "      <td>0.092</td>\n",
       "      <td>15.0</td>\n",
       "      <td>54.0</td>\n",
       "      <td>0.9970</td>\n",
       "      <td>3.26</td>\n",
       "      <td>0.65</td>\n",
       "      <td>9.8</td>\n",
       "      <td>5</td>\n",
       "    </tr>\n",
       "    <tr>\n",
       "      <th>3</th>\n",
       "      <td>11.2</td>\n",
       "      <td>0.28</td>\n",
       "      <td>0.56</td>\n",
       "      <td>1.9</td>\n",
       "      <td>0.075</td>\n",
       "      <td>17.0</td>\n",
       "      <td>60.0</td>\n",
       "      <td>0.9980</td>\n",
       "      <td>3.16</td>\n",
       "      <td>0.58</td>\n",
       "      <td>9.8</td>\n",
       "      <td>6</td>\n",
       "    </tr>\n",
       "    <tr>\n",
       "      <th>4</th>\n",
       "      <td>7.4</td>\n",
       "      <td>0.70</td>\n",
       "      <td>0.00</td>\n",
       "      <td>1.9</td>\n",
       "      <td>0.076</td>\n",
       "      <td>11.0</td>\n",
       "      <td>34.0</td>\n",
       "      <td>0.9978</td>\n",
       "      <td>3.51</td>\n",
       "      <td>0.56</td>\n",
       "      <td>9.4</td>\n",
       "      <td>5</td>\n",
       "    </tr>\n",
       "  </tbody>\n",
       "</table>\n",
       "</div>"
      ],
      "text/plain": [
       "   fixed acidity  volatile acidity  citric acid  residual sugar  chlorides  \\\n",
       "0            7.4              0.70         0.00             1.9      0.076   \n",
       "1            7.8              0.88         0.00             2.6      0.098   \n",
       "2            7.8              0.76         0.04             2.3      0.092   \n",
       "3           11.2              0.28         0.56             1.9      0.075   \n",
       "4            7.4              0.70         0.00             1.9      0.076   \n",
       "\n",
       "   free sulfur dioxide  total sulfur dioxide  density    pH  sulphates  \\\n",
       "0                 11.0                  34.0   0.9978  3.51       0.56   \n",
       "1                 25.0                  67.0   0.9968  3.20       0.68   \n",
       "2                 15.0                  54.0   0.9970  3.26       0.65   \n",
       "3                 17.0                  60.0   0.9980  3.16       0.58   \n",
       "4                 11.0                  34.0   0.9978  3.51       0.56   \n",
       "\n",
       "   alcohol  quality  \n",
       "0      9.4        5  \n",
       "1      9.8        5  \n",
       "2      9.8        5  \n",
       "3      9.8        6  \n",
       "4      9.4        5  "
      ]
     },
     "execution_count": 49,
     "metadata": {},
     "output_type": "execute_result"
    }
   ],
   "source": [
    "df.head()"
   ]
  },
  {
   "cell_type": "code",
   "execution_count": 4,
   "metadata": {},
   "outputs": [],
   "source": [
    "#df=df[(df['fixed acidity']>4) & (df['fixed acidity']) & (df['volatile acidity']>0) & (df['volatile acidity']<1.25) & (df['citric acid']>0) & (df['citric acid']<0.8) & (df['residual sugar']>1) & (df['residual sugar']<8) & (df['chlorides']>0) & (df['chlorides']<0.2) & (df['free sulfur dioxide']>0) & (df['free sulfur dioxide']<60)]"
   ]
  },
  {
   "cell_type": "code",
   "execution_count": 5,
   "metadata": {},
   "outputs": [],
   "source": [
    "#df=df[(df['total sulfur dioxide']>0) & (df['total sulfur dioxide']<175) & (df['pH']>2.8) & (df['pH']<3.8) & (df['sulphates']>0.25) & (df['sulphates']<1.25) & (df['alcohol']>9) & (df['alcohol']<14)]"
   ]
  },
  {
   "cell_type": "code",
   "execution_count": 50,
   "metadata": {},
   "outputs": [
    {
     "name": "stderr",
     "output_type": "stream",
     "text": [
      "D:\\conda\\anaconda\\lib\\site-packages\\ipykernel_launcher.py:5: SettingWithCopyWarning: \n",
      "A value is trying to be set on a copy of a slice from a DataFrame\n",
      "\n",
      "See the caveats in the documentation: http://pandas.pydata.org/pandas-docs/stable/indexing.html#indexing-view-versus-copy\n",
      "  \"\"\"\n",
      "D:\\conda\\anaconda\\lib\\site-packages\\pandas\\core\\indexing.py:189: SettingWithCopyWarning: \n",
      "A value is trying to be set on a copy of a slice from a DataFrame\n",
      "\n",
      "See the caveats in the documentation: http://pandas.pydata.org/pandas-docs/stable/indexing.html#indexing-view-versus-copy\n",
      "  self._setitem_with_indexer(indexer, value)\n",
      "D:\\conda\\anaconda\\lib\\site-packages\\ipykernel_launcher.py:3: SettingWithCopyWarning: \n",
      "A value is trying to be set on a copy of a slice from a DataFrame\n",
      "\n",
      "See the caveats in the documentation: http://pandas.pydata.org/pandas-docs/stable/indexing.html#indexing-view-versus-copy\n",
      "  This is separate from the ipykernel package so we can avoid doing imports until\n"
     ]
    }
   ],
   "source": [
    "for i in df.index:\n",
    "    if df['quality'][i]>=7:\n",
    "        df['quality'][i]='good'\n",
    "    else:\n",
    "        df['quality'][i]='bad'"
   ]
  },
  {
   "cell_type": "code",
   "execution_count": 51,
   "metadata": {},
   "outputs": [
    {
     "data": {
      "text/plain": [
       "0        bad\n",
       "1        bad\n",
       "2        bad\n",
       "3        bad\n",
       "4        bad\n",
       "5        bad\n",
       "6        bad\n",
       "7       good\n",
       "8       good\n",
       "9        bad\n",
       "10       bad\n",
       "11       bad\n",
       "12       bad\n",
       "13       bad\n",
       "14       bad\n",
       "15       bad\n",
       "16      good\n",
       "17       bad\n",
       "18       bad\n",
       "19       bad\n",
       "20       bad\n",
       "21       bad\n",
       "22       bad\n",
       "23       bad\n",
       "24       bad\n",
       "25       bad\n",
       "26       bad\n",
       "27       bad\n",
       "28       bad\n",
       "29       bad\n",
       "        ... \n",
       "1569     bad\n",
       "1570     bad\n",
       "1571     bad\n",
       "1572     bad\n",
       "1573     bad\n",
       "1574     bad\n",
       "1575     bad\n",
       "1576     bad\n",
       "1577     bad\n",
       "1578     bad\n",
       "1579     bad\n",
       "1580     bad\n",
       "1581     bad\n",
       "1582     bad\n",
       "1583     bad\n",
       "1584    good\n",
       "1585     bad\n",
       "1586     bad\n",
       "1587     bad\n",
       "1588     bad\n",
       "1589     bad\n",
       "1590     bad\n",
       "1591     bad\n",
       "1592     bad\n",
       "1593     bad\n",
       "1594     bad\n",
       "1595     bad\n",
       "1596     bad\n",
       "1597     bad\n",
       "1598     bad\n",
       "Name: quality, Length: 1599, dtype: object"
      ]
     },
     "execution_count": 51,
     "metadata": {},
     "output_type": "execute_result"
    }
   ],
   "source": [
    "df['quality']"
   ]
  },
  {
   "cell_type": "code",
   "execution_count": 52,
   "metadata": {},
   "outputs": [],
   "source": [
    "from sklearn.preprocessing import LabelEncoder"
   ]
  },
  {
   "cell_type": "code",
   "execution_count": 53,
   "metadata": {},
   "outputs": [],
   "source": [
    "le=LabelEncoder()\n",
    "l=le.fit_transform(df['quality'])"
   ]
  },
  {
   "cell_type": "code",
   "execution_count": 54,
   "metadata": {},
   "outputs": [
    {
     "data": {
      "text/plain": [
       "array([0, 0, 0, ..., 0, 0, 0], dtype=int64)"
      ]
     },
     "execution_count": 54,
     "metadata": {},
     "output_type": "execute_result"
    }
   ],
   "source": [
    "l"
   ]
  },
  {
   "cell_type": "code",
   "execution_count": 55,
   "metadata": {},
   "outputs": [],
   "source": [
    "df['quality']=l"
   ]
  },
  {
   "cell_type": "code",
   "execution_count": 56,
   "metadata": {},
   "outputs": [],
   "source": [
    "X = df.drop('quality',axis=1)"
   ]
  },
  {
   "cell_type": "code",
   "execution_count": 57,
   "metadata": {},
   "outputs": [],
   "source": [
    "y = df['quality']"
   ]
  },
  {
   "cell_type": "code",
   "execution_count": 58,
   "metadata": {},
   "outputs": [],
   "source": [
    "from sklearn.preprocessing import StandardScaler"
   ]
  },
  {
   "cell_type": "code",
   "execution_count": 59,
   "metadata": {},
   "outputs": [],
   "source": [
    "sc = StandardScaler()"
   ]
  },
  {
   "cell_type": "code",
   "execution_count": 61,
   "metadata": {},
   "outputs": [],
   "source": [
    "X = sc.fit_transform(X)"
   ]
  },
  {
   "cell_type": "code",
   "execution_count": 62,
   "metadata": {},
   "outputs": [],
   "source": [
    "from sklearn.ensemble import RandomForestClassifier"
   ]
  },
  {
   "cell_type": "code",
   "execution_count": 87,
   "metadata": {},
   "outputs": [],
   "source": [
    "rfc = RandomForestClassifier(n_estimators=17,random_state=0)"
   ]
  },
  {
   "cell_type": "code",
   "execution_count": 88,
   "metadata": {},
   "outputs": [],
   "source": [
    "from sklearn.model_selection import train_test_split"
   ]
  },
  {
   "cell_type": "code",
   "execution_count": 89,
   "metadata": {},
   "outputs": [],
   "source": [
    "X_train,X_test,y_train,y_test = train_test_split(X,y,test_size=0.2,random_state=0)"
   ]
  },
  {
   "cell_type": "code",
   "execution_count": 90,
   "metadata": {},
   "outputs": [
    {
     "data": {
      "text/plain": [
       "RandomForestClassifier(bootstrap=True, class_weight=None, criterion='gini',\n",
       "            max_depth=None, max_features='auto', max_leaf_nodes=None,\n",
       "            min_impurity_decrease=0.0, min_impurity_split=None,\n",
       "            min_samples_leaf=1, min_samples_split=2,\n",
       "            min_weight_fraction_leaf=0.0, n_estimators=17, n_jobs=1,\n",
       "            oob_score=False, random_state=0, verbose=0, warm_start=False)"
      ]
     },
     "execution_count": 90,
     "metadata": {},
     "output_type": "execute_result"
    }
   ],
   "source": [
    "rfc.fit(X_train,y_train)"
   ]
  },
  {
   "cell_type": "code",
   "execution_count": 91,
   "metadata": {},
   "outputs": [],
   "source": [
    "y_pred = rfc.predict(X_test)"
   ]
  },
  {
   "cell_type": "code",
   "execution_count": 92,
   "metadata": {},
   "outputs": [],
   "source": [
    "from sklearn.metrics import confusion_matrix,classification_report,accuracy_score,r2_score"
   ]
  },
  {
   "cell_type": "code",
   "execution_count": 93,
   "metadata": {},
   "outputs": [
    {
     "name": "stdout",
     "output_type": "stream",
     "text": [
      "[[282   8]\n",
      " [ 10  20]]\n"
     ]
    }
   ],
   "source": [
    "print(confusion_matrix(y_test,y_pred))"
   ]
  },
  {
   "cell_type": "code",
   "execution_count": 94,
   "metadata": {},
   "outputs": [
    {
     "name": "stdout",
     "output_type": "stream",
     "text": [
      "             precision    recall  f1-score   support\n",
      "\n",
      "          0       0.97      0.97      0.97       290\n",
      "          1       0.71      0.67      0.69        30\n",
      "\n",
      "avg / total       0.94      0.94      0.94       320\n",
      "\n"
     ]
    }
   ],
   "source": [
    "print(classification_report(y_test,y_pred))"
   ]
  },
  {
   "cell_type": "code",
   "execution_count": 95,
   "metadata": {},
   "outputs": [
    {
     "name": "stdout",
     "output_type": "stream",
     "text": [
      "0.94375 15\n"
     ]
    }
   ],
   "source": [
    "l=[]\n",
    "for i in range(2,200):\n",
    "    rfc = RandomForestClassifier(n_estimators=i,random_state=0)\n",
    "    rfc.fit(X_train,y_train)\n",
    "    y_pred = rfc.predict(X_test)\n",
    "    l=l+[accuracy_score(y_test,y_pred)]\n",
    "print(max(l),l.index(max(l)))"
   ]
  },
  {
   "cell_type": "code",
   "execution_count": 36,
   "metadata": {},
   "outputs": [],
   "source": [
    "from sklearn.ensemble import RandomForestRegressor"
   ]
  },
  {
   "cell_type": "code",
   "execution_count": 77,
   "metadata": {},
   "outputs": [],
   "source": [
    "rfr = RandomForestRegressor(n_estimators=40,random_state=0)\n",
    "rfr.fit(X_train,y_train)\n",
    "rfr_pred = rfr.predict(X_test)"
   ]
  },
  {
   "cell_type": "code",
   "execution_count": 78,
   "metadata": {},
   "outputs": [
    {
     "name": "stdout",
     "output_type": "stream",
     "text": [
      "accuracy:  93.125 %\n"
     ]
    }
   ],
   "source": [
    "acc=accuracy_score(y_test, y_pred)\n",
    "print(\"accuracy: \",acc*100,\"%\" )"
   ]
  },
  {
   "cell_type": "code",
   "execution_count": 72,
   "metadata": {},
   "outputs": [
    {
     "data": {
      "text/plain": [
       "array([0.   , 0.   , 0.025, 0.075, 0.   , 0.45 , 0.   , 0.5  , 0.875,\n",
       "       0.125, 0.   , 0.05 , 0.275, 0.   , 0.775, 0.125, 0.1  , 0.3  ,\n",
       "       0.15 , 0.175, 0.   , 0.15 , 0.   , 0.   , 0.825, 0.25 , 0.025,\n",
       "       0.775, 0.65 , 0.025, 0.225, 0.075, 0.375, 0.025, 0.225, 0.025,\n",
       "       0.075, 0.   , 0.   , 0.1  , 0.7  , 0.   , 0.   , 0.   , 0.625,\n",
       "       0.05 , 0.   , 0.675, 0.525, 0.05 , 0.   , 0.025, 0.   , 0.1  ,\n",
       "       0.075, 0.725, 0.   , 0.625, 0.   , 0.125, 0.075, 0.25 , 0.075,\n",
       "       0.   , 0.125, 0.   , 0.   , 0.1  , 0.   , 0.   , 0.55 , 0.425,\n",
       "       0.   , 0.   , 0.   , 0.05 , 0.   , 0.725, 0.   , 0.275, 0.   ,\n",
       "       0.125, 0.   , 0.   , 0.625, 0.025, 0.   , 0.1  , 0.025, 0.175,\n",
       "       0.625, 0.85 , 0.   , 0.525, 0.   , 0.   , 0.   , 0.275, 0.925,\n",
       "       0.075, 0.   , 0.   , 0.525, 0.025, 0.   , 0.025, 0.325, 0.75 ,\n",
       "       0.825, 0.   , 0.725, 0.975, 0.025, 0.05 , 0.075, 0.025, 0.   ,\n",
       "       0.   , 0.   , 0.   , 0.175, 0.7  , 0.5  , 0.65 , 0.65 , 0.725,\n",
       "       0.25 , 0.05 , 0.   , 0.   , 0.   , 0.05 , 0.   , 0.75 , 0.   ,\n",
       "       0.85 , 0.125, 0.1  , 0.05 , 0.   , 0.175, 0.025, 0.   , 0.05 ,\n",
       "       0.075, 0.15 , 0.   , 0.05 , 0.4  , 0.325, 0.3  , 0.   , 0.15 ,\n",
       "       0.1  , 0.025, 0.025, 0.325, 0.025, 0.375, 0.   , 0.375, 0.   ,\n",
       "       0.075, 0.   , 0.425, 0.4  , 0.025, 0.05 , 0.   , 0.   , 0.6  ,\n",
       "       0.1  , 0.   , 0.1  , 0.1  , 0.   , 0.15 , 0.7  , 0.15 , 0.05 ,\n",
       "       0.   , 0.475, 0.   , 0.075, 0.   , 0.1  , 0.   , 0.025, 0.   ,\n",
       "       0.05 , 0.   , 0.05 , 0.   , 0.175, 0.025, 0.   , 0.   , 0.05 ,\n",
       "       0.225, 0.025, 0.25 , 0.1  , 0.   , 0.2  , 0.   , 0.   , 0.   ,\n",
       "       0.125, 0.   , 0.175, 0.075, 0.025, 0.1  , 0.375, 0.   , 0.   ,\n",
       "       0.   , 0.15 , 0.05 , 0.05 , 0.025, 0.   , 0.   , 0.125, 0.775,\n",
       "       0.225, 0.   , 0.525, 0.15 , 0.3  , 0.925, 0.   , 0.275, 0.   ,\n",
       "       0.   , 0.125, 0.075, 0.075, 0.025, 0.125, 0.05 , 0.275, 0.075,\n",
       "       0.875, 0.   , 0.025, 0.75 , 0.775, 0.1  , 0.   , 0.15 , 0.025,\n",
       "       0.   , 0.075, 0.525, 0.   , 0.1  , 0.075, 0.45 , 0.525, 0.95 ,\n",
       "       0.075, 0.05 , 0.125, 0.775, 0.   , 0.   , 0.25 , 0.025, 0.025,\n",
       "       0.   , 0.075, 0.   ])"
      ]
     },
     "execution_count": 72,
     "metadata": {},
     "output_type": "execute_result"
    }
   ],
   "source": [
    "rfr_pred"
   ]
  },
  {
   "cell_type": "code",
   "execution_count": 73,
   "metadata": {},
   "outputs": [
    {
     "name": "stdout",
     "output_type": "stream",
     "text": [
      "0.93125 0\n"
     ]
    }
   ],
   "source": [
    "l=[]\n",
    "for i in range(2,100):\n",
    "    rfr = RandomForestRegressor(n_estimators=i,random_state=0)\n",
    "    rfr.fit(X_train,y_train)\n",
    "    rfr_pred = rfr.predict(X_test)\n",
    "    l=l+[accuracy_score(y_test, y_pred)]\n",
    "print(max(l),l.index(max(l)))"
   ]
  },
  {
   "cell_type": "code",
   "execution_count": null,
   "metadata": {},
   "outputs": [],
   "source": []
  }
 ],
 "metadata": {
  "kernelspec": {
   "display_name": "Python 3",
   "language": "python",
   "name": "python3"
  },
  "language_info": {
   "codemirror_mode": {
    "name": "ipython",
    "version": 3
   },
   "file_extension": ".py",
   "mimetype": "text/x-python",
   "name": "python",
   "nbconvert_exporter": "python",
   "pygments_lexer": "ipython3",
   "version": "3.7.0"
  }
 },
 "nbformat": 4,
 "nbformat_minor": 2
}
